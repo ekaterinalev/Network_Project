{
 "cells": [
  {
   "cell_type": "markdown",
   "metadata": {},
   "source": [
    "# Google Map API request\n",
    "## STEP1 : get API key through:\n",
    "#### https://developers.google.com/maps/documentation/directions/"
   ]
  },
  {
   "cell_type": "markdown",
   "metadata": {},
   "source": [
    "## STEP 2: copy your API below"
   ]
  },
  {
   "cell_type": "code",
   "execution_count": 9,
   "metadata": {
    "collapsed": true
   },
   "outputs": [],
   "source": [
    "api = ' '"
   ]
  },
  {
   "cell_type": "markdown",
   "metadata": {},
   "source": [
    "## STEP 3: run code below"
   ]
  },
  {
   "cell_type": "code",
   "execution_count": 10,
   "metadata": {
    "collapsed": false
   },
   "outputs": [],
   "source": [
    "import datetime\n",
    "import time\n",
    "import pandas as pd \n",
    "import urllib\n",
    "import json\n",
    "\n",
    "#### google api only takes time in future, not past, also and not far away future. So I use tomorrow morning\n",
    "#### Set the time as 9 AM May 5\n",
    "dt= datetime.datetime.strptime('20170505-09:00:00','%Y%m%d-%H:%M:%S')\n",
    "dt = dt.timetuple()\n",
    "dt = time.mktime(dt)"
   ]
  },
  {
   "cell_type": "markdown",
   "metadata": {},
   "source": [
    "## STEP 4: Type the file I sent you below\n",
    "#### such as 12.csv .Each file has 2500 rows for one day"
   ]
  },
  {
   "cell_type": "code",
   "execution_count": 11,
   "metadata": {
    "collapsed": false
   },
   "outputs": [],
   "source": [
    "odpair = pd.read_csv('5.csv',index_col=0).reset_index(drop=True)"
   ]
  },
  {
   "cell_type": "markdown",
   "metadata": {},
   "source": [
    "## STEP 5: Create a directory named 'transit_9am' in the same directory of this code. Then all the google api feedback will saved in that directory.\n",
    "\n",
    "## Run and wait then ;)"
   ]
  },
  {
   "cell_type": "code",
   "execution_count": null,
   "metadata": {
    "collapsed": false
   },
   "outputs": [],
   "source": [
    "no_transit=[]\n",
    "for i in range(len(odpair)):\n",
    "    origin = str(odpair.ix[i,'origin'])\n",
    "    destination = str(odpair.ix[i,'destination'])\n",
    "    mode='transit'\n",
    "    arrival_time = str(int(dt) )  ## have to be timestamp since Jan,1, 1970 UTC\n",
    "    \n",
    "    url= \"https://maps.googleapis.com/maps/api/directions/json?origin=\" + origin \\\n",
    "    +'&destination=' + destination \\\n",
    "    +'&mode='+mode \\\n",
    "    +'&alternatives=true'\\\n",
    "    +'&arrival_time='+arrival_time\\\n",
    "    +'&key='+api\n",
    "    \n",
    "    response = urllib.urlopen(url)\n",
    "    data = json.loads(response.read())\n",
    "    \n",
    "    if data['routes']==[]:\n",
    "        no_transit.append((origin,destination))     \n",
    "    \n",
    "    else:\n",
    "        finame = 'transit_9am/'+str(origin)+'_'+str(destination)+'.json'\n",
    "        with open(finame, 'w') as fi:\n",
    "            json.dump(data, fi)\n",
    "\n",
    "print 'there is no transit feedback between these pairs:'\n",
    "print no_transit"
   ]
  },
  {
   "cell_type": "code",
   "execution_count": null,
   "metadata": {
    "collapsed": true
   },
   "outputs": [],
   "source": []
  },
  {
   "cell_type": "markdown",
   "metadata": {},
   "source": [
    "## it's possible there are no connection between some areas , for example: (11693, 11697)"
   ]
  },
  {
   "cell_type": "markdown",
   "metadata": {},
   "source": [
    "## STEP 6: Type the file name below, to save those no connection pairs,"
   ]
  },
  {
   "cell_type": "code",
   "execution_count": null,
   "metadata": {
    "collapsed": true
   },
   "outputs": [],
   "source": [
    "with open('5NP.csv', 'w') as fi:\n",
    "    fi.write('%s' %no_transit)"
   ]
  },
  {
   "cell_type": "code",
   "execution_count": null,
   "metadata": {
    "collapsed": true
   },
   "outputs": [],
   "source": []
  }
 ],
 "metadata": {
  "anaconda-cloud": {},
  "kernelspec": {
   "display_name": "Python [conda root]",
   "language": "python",
   "name": "conda-root-py"
  },
  "language_info": {
   "codemirror_mode": {
    "name": "ipython",
    "version": 2
   },
   "file_extension": ".py",
   "mimetype": "text/x-python",
   "name": "python",
   "nbconvert_exporter": "python",
   "pygments_lexer": "ipython2",
   "version": "2.7.12"
  }
 },
 "nbformat": 4,
 "nbformat_minor": 1
}
